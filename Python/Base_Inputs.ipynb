{
 "cells": [
  {
   "cell_type": "code",
   "execution_count": 1,
   "metadata": {},
   "outputs": [],
   "source": [
    "#-------------------------------------\n",
    "# Base Inputs\n",
    "#-------------------------------------\n",
    "\n",
    "#Imports-----------------------------\n",
    "import warnings\n",
    "import pandas\n",
    "import os\n",
    "import sys\n",
    "import numpy as np\n",
    "import pandas as pd\n",
    "#------------------------------------\n",
    "\n",
    "#Functions--------------------------\n",
    "\n",
    "#-----------------------------------\n",
    "\n",
    "\n",
    "#-------------------------------------\n",
    "# End of Base Inputs\n",
    "#-------------------------------------"
   ]
  }
 ],
 "metadata": {
  "kernelspec": {
   "display_name": "Python 3",
   "language": "python",
   "name": "python3"
  },
  "language_info": {
   "codemirror_mode": {
    "name": "ipython",
    "version": 3
   },
   "file_extension": ".py",
   "mimetype": "text/x-python",
   "name": "python",
   "nbconvert_exporter": "python",
   "pygments_lexer": "ipython3",
   "version": "3.6.5"
  }
 },
 "nbformat": 4,
 "nbformat_minor": 2
}
