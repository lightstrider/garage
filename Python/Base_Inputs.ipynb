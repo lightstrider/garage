{
 "cells": [
  {
   "cell_type": "code",
   "execution_count": 5,
   "metadata": {},
   "outputs": [
    {
     "name": "stdout",
     "output_type": "stream",
     "text": [
      "Base Inputs Loaded\n"
     ]
    }
   ],
   "source": [
    "#-------------------------------------\n",
    "# Base Inputs\n",
    "#-------------------------------------\n",
    "\n",
    "#Imports-----------------------------\n",
    "import warnings\n",
    "import pandas\n",
    "import os\n",
    "import sys\n",
    "import numpy as np\n",
    "import pandas as pd\n",
    "#------------------------------------\n",
    "\n",
    "#Functions--------------------------\n",
    "\n",
    "#-----------------------------------\n",
    "\n",
    "message = 'Base Inputs Loaded'\n",
    "print message\n",
    "#-------------------------------------\n",
    "# End of Base Inputs\n",
    "#-------------------------------------"
   ]
  },
  {
   "cell_type": "code",
   "execution_count": null,
   "metadata": {},
   "outputs": [],
   "source": []
  }
 ],
 "metadata": {
  "kernelspec": {
   "display_name": "Python 2",
   "language": "python",
   "name": "python2"
  },
  "language_info": {
   "codemirror_mode": {
    "name": "ipython",
    "version": 2
   },
   "file_extension": ".py",
   "mimetype": "text/x-python",
   "name": "python",
   "nbconvert_exporter": "python",
   "pygments_lexer": "ipython2",
   "version": "2.7.15"
  }
 },
 "nbformat": 4,
 "nbformat_minor": 2
}
