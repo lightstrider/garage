{
 "cells": [
  {
   "cell_type": "code",
   "execution_count": null,
   "metadata": {},
   "outputs": [],
   "source": [
    "########################################\n",
    "# Inputs\n",
    "########################################\n",
    "import warnings\n",
    "import pandas as pd\n",
    "from datetime import datetime"
   ]
  },
  {
   "cell_type": "code",
   "execution_count": null,
   "metadata": {},
   "outputs": [],
   "source": [
    "########################################\n",
    "# Importing Parking Tickets\n",
    "########################################\n",
    "df_raw = pd.read_csv('Parking_Citations.tsv',sep='\\t',header=0)\n",
    "\n",
    "df_raw.head()"
   ]
  },
  {
   "cell_type": "code",
   "execution_count": null,
   "metadata": {},
   "outputs": [],
   "source": [
    "df_raw.head(100)"
   ]
  },
  {
   "cell_type": "code",
   "execution_count": null,
   "metadata": {},
   "outputs": [],
   "source": [
    "########################################\n",
    "# Removing Unnecessary Data\n",
    "########################################\n",
    "df = df_raw\n",
    "df['one']=1\n",
    "df = df[df['Issue Date'].notnull()]\n",
    "df = df[df['Fine amount'].notnull()]\n",
    "del df['VIN'] #I don't think they should be releasing these publicly in the first place\n",
    "del df['Meter Id'] #no need for this\n",
    "del df['Marked Time'] #not sure what this is don't need it\n",
    "del df['Ticket number'] # no need to keep this since it's just a row count, can use 1 instead\n",
    "del df['Route'] #don't know how i'd use this\n",
    "del df['Agency'] #Don't know how I'd use this\n",
    "\n",
    "del df['Latitude'] #these do not look like normal latitude/longitude \n",
    "del df['Longitude'] #these do not look like normal latitude/longitude\n",
    "del df['Location'] #I would need a serious geocoding package to make use of this (Maybe one is available?)\n",
    "\n",
    "print 'Total Rows: %d' % (df.one.sum())\n",
    "print\n",
    "print df.count()\n",
    "print\n",
    "print\n",
    "print df.info()\n",
    "print\n",
    "df.head()\n"
   ]
  },
  {
   "cell_type": "code",
   "execution_count": null,
   "metadata": {},
   "outputs": [],
   "source": [
    "print df['Ticket number'].count()\n",
    "print df['Ticket number'].nunique()\n"
   ]
  },
  {
   "cell_type": "raw",
   "metadata": {},
   "source": [
    "########################################\n",
    "# List of Columns in Data Set\n",
    "########################################\n",
    "Ticket number\n",
    "Issue Date\n",
    "Issue time\n",
    "Meter Id\n",
    "Marked Time\n",
    "RP State Plate\n",
    "Plate Expiry Date\n",
    "VIN\n",
    "Make\n",
    "Body Style\n",
    "Color\n",
    "Location\n",
    "Route\n",
    "Agency\n",
    "Violation code\n",
    "Violation Description\n",
    "Fine amount\n",
    "Latitude\n",
    "Longitude"
   ]
  },
  {
   "cell_type": "code",
   "execution_count": null,
   "metadata": {},
   "outputs": [],
   "source": [
    "########################################\n",
    "# Cleaning Data\n",
    "########################################\n",
    "df['issue_time_adj']= df['Issue time']\n",
    "df['issue_time_adj'].fillna(value = -1,inplace = True,axis=0)\n",
    "\n",
    "df['mising_issue_time']=0\n",
    "df['mising_issue_time'][df['issue_time_adj']==-1]=1\n",
    "\n",
    "df['issue_time_adj']= df['issue_time_adj'].astype(int)\n",
    "df['issue_time_adj']=df['issue_time_adj'].apply('{0:0>4}'.format)\n",
    "df['issue_time_adj']= df['issue_time_adj'].astype(str)\n",
    "\n",
    "df['issue_hour']=df['issue_time_adj'].str[:2]\n",
    "df['issue_minute']=df['issue_time_adj'].str[2:4]\n",
    "\n",
    "df['issue_time_formatted']=((df['issue_hour']+':'+df['issue_minute']),'%'\n",
    "\n",
    "df.info()\n",
    "df.head(100)"
   ]
  },
  {
   "cell_type": "code",
   "execution_count": null,
   "metadata": {},
   "outputs": [],
   "source": [
    "df['issue_time_adj'][df['issue_time_adj'].isnull()]= -1\n"
   ]
  },
  {
   "cell_type": "code",
   "execution_count": null,
   "metadata": {},
   "outputs": [],
   "source": [
    "print year(df[issue_Date].head())"
   ]
  },
  {
   "cell_type": "code",
   "execution_count": null,
   "metadata": {},
   "outputs": [],
   "source": [
    "df['Issue time'].max()"
   ]
  },
  {
   "cell_type": "code",
   "execution_count": null,
   "metadata": {},
   "outputs": [],
   "source": []
  }
 ],
 "metadata": {
  "kernelspec": {
   "display_name": "Python 2",
   "language": "python",
   "name": "python2"
  },
  "language_info": {
   "codemirror_mode": {
    "name": "ipython",
    "version": 2
   },
   "file_extension": ".py",
   "mimetype": "text/x-python",
   "name": "python",
   "nbconvert_exporter": "python",
   "pygments_lexer": "ipython2",
   "version": "2.7.15"
  }
 },
 "nbformat": 4,
 "nbformat_minor": 2
}
